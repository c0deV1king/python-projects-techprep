{
 "cells": [
  {
   "cell_type": "code",
   "execution_count": 55,
   "id": "d3529dfe",
   "metadata": {},
   "outputs": [
    {
     "name": "stdout",
     "output_type": "stream",
     "text": [
      "      ID     Name  Assignment_1  Assignment_2  Quiz_1  Quiz_2  Mid_Term_Exam  \\\n",
      "0  90743     Jake            85            90    97.5   100.0           96.5   \n",
      "1   7284      Joe            69            74   100.0    80.0           85.5   \n",
      "2   7625    Susan            75            80    95.0    95.0           90.0   \n",
      "3   1237      Sol            75            88    85.5    78.5           80.0   \n",
      "4     62    Chris            84            86    95.0    85.0           90.0   \n",
      "5  87452    Tarik            55            68    85.0    86.0           78.0   \n",
      "6   9374    Malik            90            95   100.0   100.0           91.5   \n",
      "7  74586     John            65            75    75.0    68.0           50.0   \n",
      "8  65877     Todd            50            55    56.0    49.0           52.0   \n",
      "9   4258  Rebecca            78            82    71.0    84.0           79.0   \n",
      "\n",
      "   Final_Exam Final Grade  \n",
      "0        97.5          A+  \n",
      "1        87.5           A  \n",
      "2        91.0           A  \n",
      "3        86.0           A  \n",
      "4        91.5           A  \n",
      "5        81.5           B  \n",
      "6        93.0          A+  \n",
      "7        58.5           C  \n",
      "8        53.0           F  \n",
      "9        80.5           B  \n"
     ]
    }
   ],
   "source": [
    "#import pandas library\n",
    "import pandas as pd\n",
    "\n",
    "#read the original csv file\n",
    "df = pd.read_csv(\"Data/Grades_Short.csv\")\n",
    "\n",
    "#grab the grades from the assignments/tests\n",
    "grades = df[['Assignment_1', 'Assignment_2', 'Quiz_1', 'Quiz_2', 'Mid_Term_Exam', 'Final_Exam']]\n",
    "\n",
    "#get the average of each students\n",
    "averages = grades.mean(axis=1)\n",
    "\n",
    "#create the function that determines the letter grade based on the number grade\n",
    "def finalLetterGrade(averages):\n",
    "    if averages <= 55.00:\n",
    "        return \"F\"\n",
    "    elif averages > 55.00 and averages < 60.00:\n",
    "        return \"D\"\n",
    "    elif averages > 60.00 and averages < 70.00:\n",
    "        return \"C\"\n",
    "    elif averages > 70.00 and averages < 80.00:\n",
    "        return \"B\"\n",
    "    elif averages > 80.00 and averages < 90.00:\n",
    "        return \"A\"\n",
    "    else:\n",
    "        return \"A+\"\n",
    "\n",
    "#apply the function to the averages\n",
    "finalGrade = averages.apply(finalLetterGrade)\n",
    "\n",
    "#insert a new column based on finalGrade\n",
    "df.insert(8, column='Final Grade', value=finalGrade)\n",
    "\n",
    "#write the result to a new csv file\n",
    "df.to_csv('Data/final_grades.csv', index=False)\n",
    "\n",
    "#show result\n",
    "print(df)"
   ]
  },
  {
   "cell_type": "code",
   "execution_count": null,
   "id": "d546d46c",
   "metadata": {},
   "outputs": [],
   "source": []
  }
 ],
 "metadata": {
  "kernelspec": {
   "display_name": "Python 3 (ipykernel)",
   "language": "python",
   "name": "python3"
  },
  "language_info": {
   "codemirror_mode": {
    "name": "ipython",
    "version": 3
   },
   "file_extension": ".py",
   "mimetype": "text/x-python",
   "name": "python",
   "nbconvert_exporter": "python",
   "pygments_lexer": "ipython3",
   "version": "3.10.6"
  }
 },
 "nbformat": 4,
 "nbformat_minor": 5
}
